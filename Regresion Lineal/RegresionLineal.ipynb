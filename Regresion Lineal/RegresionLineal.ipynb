{
 "cells": [
  {
   "cell_type": "markdown",
   "id": "18c3a116",
   "metadata": {},
   "source": [
    "<h1>Regresión Lineal</h1>"
   ]
  },
  {
   "cell_type": "markdown",
   "id": "c17ee12d",
   "metadata": {},
   "source": [
    "<p><b>Pasos a seguir:</b></p>\n",
    "<ul>\n",
    "    <li>Importamos las librerias necesarias para trabajar.</li>\n",
    "    <li>Cargamos los datos del archivo data.csv</li>\n",
    "    <li>Desarrollamos el codigo para la regresión lineal</li>\n",
    "</ul>"
   ]
  },
  {
   "cell_type": "code",
   "execution_count": 57,
   "id": "465fb9e5",
   "metadata": {},
   "outputs": [],
   "source": [
    "import sys\n",
    "import matplotlib \n",
    "matplotlib.use('TkAgg')\n",
    "\n",
    "import pandas as pd\n",
    "import matplotlib.pyplot as plt\n",
    "#import matplotlib.image as mpimg\n",
    "from scipy import stats\n",
    "from PIL import Image\n",
    "import os\n",
    "from IPython.display import Image\n",
    "\n"
   ]
  },
  {
   "cell_type": "markdown",
   "id": "9d8bd861",
   "metadata": {},
   "source": [
    "<p><b>Lectura de los datos</b></p>\n",
    "<p>con el metodo head imprimimos los valores del archivo <b>data.csv</b></p>"
   ]
  },
  {
   "cell_type": "code",
   "execution_count": 58,
   "id": "ed7395d4",
   "metadata": {},
   "outputs": [
    {
     "data": {
      "text/html": [
       "<div>\n",
       "<style scoped>\n",
       "    .dataframe tbody tr th:only-of-type {\n",
       "        vertical-align: middle;\n",
       "    }\n",
       "\n",
       "    .dataframe tbody tr th {\n",
       "        vertical-align: top;\n",
       "    }\n",
       "\n",
       "    .dataframe thead th {\n",
       "        text-align: right;\n",
       "    }\n",
       "</style>\n",
       "<table border=\"1\" class=\"dataframe\">\n",
       "  <thead>\n",
       "    <tr style=\"text-align: right;\">\n",
       "      <th></th>\n",
       "      <th>metro</th>\n",
       "      <th>precio</th>\n",
       "    </tr>\n",
       "  </thead>\n",
       "  <tbody>\n",
       "    <tr>\n",
       "      <th>0</th>\n",
       "      <td>5</td>\n",
       "      <td>375</td>\n",
       "    </tr>\n",
       "    <tr>\n",
       "      <th>1</th>\n",
       "      <td>15</td>\n",
       "      <td>487</td>\n",
       "    </tr>\n",
       "    <tr>\n",
       "      <th>2</th>\n",
       "      <td>20</td>\n",
       "      <td>450</td>\n",
       "    </tr>\n",
       "    <tr>\n",
       "      <th>3</th>\n",
       "      <td>25</td>\n",
       "      <td>500</td>\n",
       "    </tr>\n",
       "  </tbody>\n",
       "</table>\n",
       "</div>"
      ],
      "text/plain": [
       "   metro  precio\n",
       "0      5     375\n",
       "1     15     487\n",
       "2     20     450\n",
       "3     25     500"
      ]
     },
     "execution_count": 58,
     "metadata": {},
     "output_type": "execute_result"
    }
   ],
   "source": [
    "\n",
    "var_uno = pd.read_csv(\".//data.csv\", header = 0, sep = \",\")\n",
    "var_uno.head()"
   ]
  },
  {
   "cell_type": "markdown",
   "id": "e087b0b8",
   "metadata": {},
   "source": [
    "<p>Creamos unas variables \"x\" y \"y\" para almacenar la respectiva columna del dataframe. </p>"
   ]
  },
  {
   "cell_type": "code",
   "execution_count": 59,
   "id": "003e0385",
   "metadata": {},
   "outputs": [],
   "source": [
    "x = var_uno[\"metro\"]\n",
    "y = var_uno[\"precio\"]"
   ]
  },
  {
   "cell_type": "markdown",
   "id": "eefce760",
   "metadata": {},
   "source": [
    "<p>Se hace el calculo de la regresion lineal utilizando la función <b>stats.linregress()</b> con los valores \"x\" y \"y\".</p>"
   ]
  },
  {
   "cell_type": "code",
   "execution_count": 60,
   "id": "63208963",
   "metadata": {},
   "outputs": [],
   "source": [
    "slope, intercept, r, p,std_err = stats.linregress(x, y)"
   ]
  },
  {
   "cell_type": "markdown",
   "id": "ed611b87",
   "metadata": {},
   "source": [
    "<p>Creamos un función para calcular los valores de la regresión lineal, que calcula  el valor  de \"y\"(precio) en funcion </br> \n",
    "de \"x\" (metro) utilizando la pendiente  y la intersección calculadas anteriormente.</p>"
   ]
  },
  {
   "cell_type": "code",
   "execution_count": 61,
   "id": "b241cc90",
   "metadata": {},
   "outputs": [],
   "source": [
    "def regresionLineal(x):\n",
    "    return slope * x + intercept"
   ]
  },
  {
   "cell_type": "markdown",
   "id": "b1c5ae31",
   "metadata": {},
   "source": [
    "<p>Se realiza un mapeo</p>"
   ]
  },
  {
   "cell_type": "code",
   "execution_count": 62,
   "id": "dda69482",
   "metadata": {},
   "outputs": [],
   "source": [
    "mapeo = list(map(regresionLineal, x))"
   ]
  },
  {
   "cell_type": "markdown",
   "id": "56c3bd63",
   "metadata": {},
   "source": [
    "<p>Se crea un grafico apartir de los valores \"x\" y \"y, luego se traza la linea de regresión utilizando  la funcion <b>mapeo()</b></p>"
   ]
  },
  {
   "cell_type": "code",
   "execution_count": 63,
   "id": "e0d82003",
   "metadata": {},
   "outputs": [
    {
     "data": {
      "text/plain": [
       "[<matplotlib.lines.Line2D at 0x7f081f9f7b50>]"
      ]
     },
     "execution_count": 63,
     "metadata": {},
     "output_type": "execute_result"
    }
   ],
   "source": [
    "plt.scatter(x, y, color= \"black\")\n",
    "plt.plot(x, mapeo, \"-r\")"
   ]
  },
  {
   "cell_type": "markdown",
   "id": "d3246c82",
   "metadata": {},
   "source": [
    "<p>Configuracion del gráfico a traves de los límites para definir el ancho y el alto de la ventana </br>\n",
    "con los label establezco el nombre de los ejes</p>"
   ]
  },
  {
   "cell_type": "code",
   "execution_count": 64,
   "id": "40eee961",
   "metadata": {},
   "outputs": [
    {
     "data": {
      "text/plain": [
       "Text(38.097222222222214, 0.5, 'precio')"
      ]
     },
     "execution_count": 64,
     "metadata": {},
     "output_type": "execute_result"
    }
   ],
   "source": [
    "plt.ylim(ymin=0, ymax=600)\n",
    "plt.xlim(xmin=0, xmax=50)\n",
    "plt.xlabel(\"metro\")\n",
    "plt.ylabel(\"precio\")"
   ]
  },
  {
   "cell_type": "markdown",
   "id": "b48f32d6",
   "metadata": {},
   "source": [
    "<p>Se guarda el gráfico para imprimirlo en pantalla</p>"
   ]
  },
  {
   "cell_type": "code",
   "execution_count": 65,
   "id": "8e67d681",
   "metadata": {},
   "outputs": [],
   "source": [
    "plt.savefig(\"archivo.png\")\n",
    "#se comenta plt.show() con el proposito de que solo se ejecute la imagen guardada\n",
    "#plt.show()\n",
    "sys.stdout.flush()\n"
   ]
  },
  {
   "cell_type": "markdown",
   "id": "467c2b82",
   "metadata": {},
   "source": [
    "<p>Gráfico de la regresión lineal: </p>\n"
   ]
  },
  {
   "cell_type": "code",
   "execution_count": 66,
   "id": "3cb8bba3",
   "metadata": {},
   "outputs": [
    {
     "data": {
      "image/png": "[encoded data removed]",
      "text/plain": [
       "<IPython.core.display.Image object>"
      ]
     },
     "execution_count": 66,
     "metadata": {},
     "output_type": "execute_result"
    }
   ],
   "source": [
    "# Ruta de la imagen local\n",
    "img_path = 'archivo.png'\n",
    "\n",
    "# Muestra la imagen\n",
    "Image(filename=img_path)"
   ]
  }
 ],
 "metadata": {
  "kernelspec": {
   "display_name": "Python 3 (ipykernel)",
   "language": "python",
   "name": "python3"
  },
  "language_info": {
   "codemirror_mode": {
    "name": "ipython",
    "version": 3
   },
   "file_extension": ".py",
   "mimetype": "text/x-python",
   "name": "python",
   "nbconvert_exporter": "python",
   "pygments_lexer": "ipython3",
   "version": "3.11.4"
  }
 },
 "nbformat": 4,
 "nbformat_minor": 5
}
